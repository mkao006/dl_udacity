{
 "cells": [
  {
   "cell_type": "markdown",
   "metadata": {},
   "source": [
    "# Air Cargo Planning Problem Heuristic Analysis\n",
    "\n",
    "Author: Michael C. J. Kao\n",
    "\n",
    "This report analysis three problems of various difficulty in the Airplane cargo planning setting as outlined in the [README.md](https://github.com/mkao006/dl_udacity/blob/master/artificial_intelligence_nanodegree/1_foundation_of_ai/cargo_planning/README.md)\n",
    "\n",
    "We first analysis the problem one by one with all ten searches tested, we then provide a conclusion on the overall performance and the comparison between heuristic and non-heuristic methods."
   ]
  },
  {
   "cell_type": "code",
   "execution_count": 1,
   "metadata": {},
   "outputs": [],
   "source": [
    "import heuristic_helper as hh\n",
    "all_search_indices = range(1, 11)"
   ]
  },
  {
   "cell_type": "markdown",
   "metadata": {},
   "source": [
    "# Search Comparison\n",
    "\n",
    "In each of the subsection below, the optimal solution is shown along with the result of each search algorithm. Methods which fails to obtain a solution within the 10 minutes time constraint are not shown.\n",
    "\n",
    "We compare the `optimality`, `memory consumption` and `speed` of each method for each problem.\n",
    "\n",
    "\n",
    "## Problem 1: \n",
    "\n",
    "Aircraft Number: 2\n",
    "\n",
    "Cargo Number: 2\n",
    "\n",
    "Airport Number: 2"
   ]
  },
  {
   "cell_type": "code",
   "execution_count": 2,
   "metadata": {},
   "outputs": [
    {
     "name": "stdout",
     "output_type": "stream",
     "text": [
      "\n",
      "Optimal Path Length: 6\n",
      "\n",
      "Optimal Plan:\n",
      "\n",
      "Load(C1, P1, SFO)\n",
      "Load(C2, P2, JFK)\n",
      "Fly(P2, JFK, SFO)\n",
      "Unload(C2, P2, SFO)\n",
      "Fly(P1, SFO, JFK)\n",
      "Unload(C1, P1, JFK)\n"
     ]
    },
    {
     "data": {
      "text/html": [
       "<div>\n",
       "<style scoped>\n",
       "    .dataframe tbody tr th:only-of-type {\n",
       "        vertical-align: middle;\n",
       "    }\n",
       "\n",
       "    .dataframe tbody tr th {\n",
       "        vertical-align: top;\n",
       "    }\n",
       "\n",
       "    .dataframe thead th {\n",
       "        text-align: right;\n",
       "    }\n",
       "</style>\n",
       "<table border=\"1\" class=\"dataframe\">\n",
       "  <thead>\n",
       "    <tr style=\"text-align: right;\">\n",
       "      <th></th>\n",
       "      <th>Nodes Expanded</th>\n",
       "      <th>Path Length</th>\n",
       "      <th>Time (s)</th>\n",
       "      <th>optimal</th>\n",
       "    </tr>\n",
       "  </thead>\n",
       "  <tbody>\n",
       "    <tr>\n",
       "      <th>breadth_first_search</th>\n",
       "      <td>180</td>\n",
       "      <td>6</td>\n",
       "      <td>0.0439</td>\n",
       "      <td>True</td>\n",
       "    </tr>\n",
       "    <tr>\n",
       "      <th>breadth_first_tree_search</th>\n",
       "      <td>5960</td>\n",
       "      <td>6</td>\n",
       "      <td>0.8655</td>\n",
       "      <td>True</td>\n",
       "    </tr>\n",
       "    <tr>\n",
       "      <th>depth_first_graph_search</th>\n",
       "      <td>84</td>\n",
       "      <td>20</td>\n",
       "      <td>0.0112</td>\n",
       "      <td>False</td>\n",
       "    </tr>\n",
       "    <tr>\n",
       "      <th>depth_limited_search</th>\n",
       "      <td>414</td>\n",
       "      <td>50</td>\n",
       "      <td>0.0719</td>\n",
       "      <td>False</td>\n",
       "    </tr>\n",
       "    <tr>\n",
       "      <th>uniform_cost_search</th>\n",
       "      <td>224</td>\n",
       "      <td>6</td>\n",
       "      <td>0.0295</td>\n",
       "      <td>True</td>\n",
       "    </tr>\n",
       "    <tr>\n",
       "      <th>recursive_best_first_search (param=h_1)</th>\n",
       "      <td>17023</td>\n",
       "      <td>6</td>\n",
       "      <td>2.4794</td>\n",
       "      <td>True</td>\n",
       "    </tr>\n",
       "    <tr>\n",
       "      <th>greedy_best_first_graph_search (param=h_1)</th>\n",
       "      <td>28</td>\n",
       "      <td>6</td>\n",
       "      <td>0.0042</td>\n",
       "      <td>True</td>\n",
       "    </tr>\n",
       "    <tr>\n",
       "      <th>astar_search (param=h_1)</th>\n",
       "      <td>224</td>\n",
       "      <td>6</td>\n",
       "      <td>0.0316</td>\n",
       "      <td>True</td>\n",
       "    </tr>\n",
       "    <tr>\n",
       "      <th>astar_search (param=h_ignore_preconditions)</th>\n",
       "      <td>170</td>\n",
       "      <td>6</td>\n",
       "      <td>0.0302</td>\n",
       "      <td>True</td>\n",
       "    </tr>\n",
       "    <tr>\n",
       "      <th>astar_search (param=h_pg_levelsum)</th>\n",
       "      <td>158</td>\n",
       "      <td>6</td>\n",
       "      <td>0.9108</td>\n",
       "      <td>True</td>\n",
       "    </tr>\n",
       "  </tbody>\n",
       "</table>\n",
       "</div>"
      ],
      "text/plain": [
       "                                             Nodes Expanded  Path Length  \\\n",
       "breadth_first_search                                    180            6   \n",
       "breadth_first_tree_search                              5960            6   \n",
       "depth_first_graph_search                                 84           20   \n",
       "depth_limited_search                                    414           50   \n",
       "uniform_cost_search                                     224            6   \n",
       "recursive_best_first_search (param=h_1)               17023            6   \n",
       "greedy_best_first_graph_search (param=h_1)               28            6   \n",
       "astar_search (param=h_1)                                224            6   \n",
       "astar_search (param=h_ignore_preconditions)             170            6   \n",
       "astar_search (param=h_pg_levelsum)                      158            6   \n",
       "\n",
       "                                               Time (s)  optimal  \n",
       "breadth_first_search                             0.0439     True  \n",
       "breadth_first_tree_search                        0.8655     True  \n",
       "depth_first_graph_search                         0.0112    False  \n",
       "depth_limited_search                             0.0719    False  \n",
       "uniform_cost_search                              0.0295     True  \n",
       "recursive_best_first_search (param=h_1)          2.4794     True  \n",
       "greedy_best_first_graph_search (param=h_1)       0.0042     True  \n",
       "astar_search (param=h_1)                         0.0316     True  \n",
       "astar_search (param=h_ignore_preconditions)      0.0302     True  \n",
       "astar_search (param=h_pg_levelsum)               0.9108     True  "
      ]
     },
     "execution_count": 2,
     "metadata": {},
     "output_type": "execute_result"
    }
   ],
   "source": [
    "hh.create_result_dataframe(problem_index=1, search_index=all_search_indices)"
   ]
  },
  {
   "cell_type": "markdown",
   "metadata": {},
   "source": [
    "In the simple task above, all algorithm were able to solve the problem under the 10 minutes time constraint. \n",
    "\n",
    "* Optimality: All achieved optimal solution except `depth first graph search` and `depth limited search`.\n",
    "* Time: `depth first graph search` had the lowest time, while `recursive best first search` had the longest.\n",
    "* Memory: `recursive best first search` and `breadth first tree search` both has significant number of nodes than the other methods."
   ]
  },
  {
   "cell_type": "markdown",
   "metadata": {},
   "source": [
    "## Problem 2: \n",
    "\n",
    "Aircraft Number: 3\n",
    "\n",
    "Cargo Number: 3\n",
    "\n",
    "Airport Number: 3"
   ]
  },
  {
   "cell_type": "code",
   "execution_count": 3,
   "metadata": {},
   "outputs": [
    {
     "name": "stdout",
     "output_type": "stream",
     "text": [
      "\n",
      "Optimal Path Length: 9\n",
      "\n",
      "Optimal Plan:\n",
      "\n",
      "Load(C1, P1, SFO)\n",
      "Load(C2, P2, JFK)\n",
      "Load(C3, P3, ATL)\n",
      "Fly(P2, JFK, SFO)\n",
      "Unload(C2, P2, SFO)\n",
      "Fly(P1, SFO, JFK)\n",
      "Unload(C1, P1, JFK)\n",
      "Fly(P3, ATL, SFO)\n",
      "Unload(C3, P3, SFO)\n"
     ]
    },
    {
     "data": {
      "text/html": [
       "<div>\n",
       "<style scoped>\n",
       "    .dataframe tbody tr th:only-of-type {\n",
       "        vertical-align: middle;\n",
       "    }\n",
       "\n",
       "    .dataframe tbody tr th {\n",
       "        vertical-align: top;\n",
       "    }\n",
       "\n",
       "    .dataframe thead th {\n",
       "        text-align: right;\n",
       "    }\n",
       "</style>\n",
       "<table border=\"1\" class=\"dataframe\">\n",
       "  <thead>\n",
       "    <tr style=\"text-align: right;\">\n",
       "      <th></th>\n",
       "      <th>Nodes Expanded</th>\n",
       "      <th>Path Length</th>\n",
       "      <th>Time (s)</th>\n",
       "      <th>optimal</th>\n",
       "    </tr>\n",
       "  </thead>\n",
       "  <tbody>\n",
       "    <tr>\n",
       "      <th>breadth_first_search</th>\n",
       "      <td>30509</td>\n",
       "      <td>9</td>\n",
       "      <td>6.6884</td>\n",
       "      <td>True</td>\n",
       "    </tr>\n",
       "    <tr>\n",
       "      <th>breadth_first_tree_search</th>\n",
       "      <td>-</td>\n",
       "      <td>-</td>\n",
       "      <td>-</td>\n",
       "      <td>False</td>\n",
       "    </tr>\n",
       "    <tr>\n",
       "      <th>depth_first_graph_search</th>\n",
       "      <td>5602</td>\n",
       "      <td>619</td>\n",
       "      <td>3.1632</td>\n",
       "      <td>False</td>\n",
       "    </tr>\n",
       "    <tr>\n",
       "      <th>depth_limited_search</th>\n",
       "      <td>-</td>\n",
       "      <td>-</td>\n",
       "      <td>-</td>\n",
       "      <td>False</td>\n",
       "    </tr>\n",
       "    <tr>\n",
       "      <th>uniform_cost_search</th>\n",
       "      <td>44030</td>\n",
       "      <td>9</td>\n",
       "      <td>9.4703</td>\n",
       "      <td>True</td>\n",
       "    </tr>\n",
       "    <tr>\n",
       "      <th>recursive_best_first_search (param=h_1)</th>\n",
       "      <td>-</td>\n",
       "      <td>-</td>\n",
       "      <td>-</td>\n",
       "      <td>False</td>\n",
       "    </tr>\n",
       "    <tr>\n",
       "      <th>greedy_best_first_graph_search (param=h_1)</th>\n",
       "      <td>8910</td>\n",
       "      <td>27</td>\n",
       "      <td>1.9175</td>\n",
       "      <td>False</td>\n",
       "    </tr>\n",
       "    <tr>\n",
       "      <th>astar_search (param=h_1)</th>\n",
       "      <td>44030</td>\n",
       "      <td>9</td>\n",
       "      <td>9.3552</td>\n",
       "      <td>True</td>\n",
       "    </tr>\n",
       "    <tr>\n",
       "      <th>astar_search (param=h_ignore_preconditions)</th>\n",
       "      <td>13303</td>\n",
       "      <td>9</td>\n",
       "      <td>3.3819</td>\n",
       "      <td>True</td>\n",
       "    </tr>\n",
       "    <tr>\n",
       "      <th>astar_search (param=h_pg_levelsum)</th>\n",
       "      <td>10232</td>\n",
       "      <td>9</td>\n",
       "      <td>259.5805</td>\n",
       "      <td>True</td>\n",
       "    </tr>\n",
       "  </tbody>\n",
       "</table>\n",
       "</div>"
      ],
      "text/plain": [
       "                                            Nodes Expanded Path Length  \\\n",
       "breadth_first_search                                 30509           9   \n",
       "breadth_first_tree_search                                -           -   \n",
       "depth_first_graph_search                              5602         619   \n",
       "depth_limited_search                                     -           -   \n",
       "uniform_cost_search                                  44030           9   \n",
       "recursive_best_first_search (param=h_1)                  -           -   \n",
       "greedy_best_first_graph_search (param=h_1)            8910          27   \n",
       "astar_search (param=h_1)                             44030           9   \n",
       "astar_search (param=h_ignore_preconditions)          13303           9   \n",
       "astar_search (param=h_pg_levelsum)                   10232           9   \n",
       "\n",
       "                                               Time (s)  optimal  \n",
       "breadth_first_search                             6.6884     True  \n",
       "breadth_first_tree_search                             -    False  \n",
       "depth_first_graph_search                         3.1632    False  \n",
       "depth_limited_search                                  -    False  \n",
       "uniform_cost_search                              9.4703     True  \n",
       "recursive_best_first_search (param=h_1)               -    False  \n",
       "greedy_best_first_graph_search (param=h_1)       1.9175    False  \n",
       "astar_search (param=h_1)                         9.3552     True  \n",
       "astar_search (param=h_ignore_preconditions)      3.3819     True  \n",
       "astar_search (param=h_pg_levelsum)             259.5805     True  "
      ]
     },
     "execution_count": 3,
     "metadata": {},
     "output_type": "execute_result"
    }
   ],
   "source": [
    "hh.create_result_dataframe(problem_index=2, search_index=all_search_indices)"
   ]
  },
  {
   "cell_type": "markdown",
   "metadata": {},
   "source": [
    "For this problem, the `breadth first tree search`, `depth limited search` and `recursive best first search` were unable to complete under the time constraint.\n",
    "\n",
    "* Optimality: `depth first graph search` and `greedy best first graph search` did not obtain optimal plan.\n",
    "* Time: `depth first graph search` had the lowest time again, while `A* star search with level sum heuristic` had the longest within the time constraint.\n",
    "* Memory: `depth first graph search` uses the least memory followed by `greedy best first graph search`."
   ]
  },
  {
   "cell_type": "markdown",
   "metadata": {},
   "source": [
    "## Problem 3: \n",
    "\n",
    "Aircraft Number: 2\n",
    "\n",
    "Cargo Number: 4\n",
    "\n",
    "Airport Number: 4"
   ]
  },
  {
   "cell_type": "code",
   "execution_count": 4,
   "metadata": {},
   "outputs": [
    {
     "name": "stdout",
     "output_type": "stream",
     "text": [
      "\n",
      "Optimal Path Length: 12\n",
      "\n",
      "Optimal Plan:\n",
      "\n",
      "Load(C1, P1, SFO)\n",
      "Load(C2, P2, JFK)\n",
      "Fly(P2, JFK, ORD)\n",
      "Load(C4, P2, ORD)\n",
      "Fly(P1, SFO, ATL)\n",
      "Load(C3, P1, ATL)\n",
      "Fly(P1, ATL, JFK)\n",
      "Unload(C1, P1, JFK)\n",
      "Unload(C3, P1, JFK)\n",
      "Fly(P2, ORD, SFO)\n",
      "Unload(C2, P2, SFO)\n",
      "Unload(C4, P2, SFO)\n"
     ]
    },
    {
     "data": {
      "text/html": [
       "<div>\n",
       "<style scoped>\n",
       "    .dataframe tbody tr th:only-of-type {\n",
       "        vertical-align: middle;\n",
       "    }\n",
       "\n",
       "    .dataframe tbody tr th {\n",
       "        vertical-align: top;\n",
       "    }\n",
       "\n",
       "    .dataframe thead th {\n",
       "        text-align: right;\n",
       "    }\n",
       "</style>\n",
       "<table border=\"1\" class=\"dataframe\">\n",
       "  <thead>\n",
       "    <tr style=\"text-align: right;\">\n",
       "      <th></th>\n",
       "      <th>Nodes Expanded</th>\n",
       "      <th>Path Length</th>\n",
       "      <th>Time (s)</th>\n",
       "      <th>optimal</th>\n",
       "    </tr>\n",
       "  </thead>\n",
       "  <tbody>\n",
       "    <tr>\n",
       "      <th>breadth_first_search</th>\n",
       "      <td>128605</td>\n",
       "      <td>12</td>\n",
       "      <td>33.6191</td>\n",
       "      <td>True</td>\n",
       "    </tr>\n",
       "    <tr>\n",
       "      <th>breadth_first_tree_search</th>\n",
       "      <td>-</td>\n",
       "      <td>-</td>\n",
       "      <td>-</td>\n",
       "      <td>False</td>\n",
       "    </tr>\n",
       "    <tr>\n",
       "      <th>depth_first_graph_search</th>\n",
       "      <td>3364</td>\n",
       "      <td>392</td>\n",
       "      <td>1.4277</td>\n",
       "      <td>False</td>\n",
       "    </tr>\n",
       "    <tr>\n",
       "      <th>depth_limited_search</th>\n",
       "      <td>-</td>\n",
       "      <td>-</td>\n",
       "      <td>-</td>\n",
       "      <td>False</td>\n",
       "    </tr>\n",
       "    <tr>\n",
       "      <th>uniform_cost_search</th>\n",
       "      <td>158272</td>\n",
       "      <td>12</td>\n",
       "      <td>41.0995</td>\n",
       "      <td>True</td>\n",
       "    </tr>\n",
       "    <tr>\n",
       "      <th>recursive_best_first_search (param=h_1)</th>\n",
       "      <td>-</td>\n",
       "      <td>-</td>\n",
       "      <td>-</td>\n",
       "      <td>False</td>\n",
       "    </tr>\n",
       "    <tr>\n",
       "      <th>greedy_best_first_graph_search (param=h_1)</th>\n",
       "      <td>48822</td>\n",
       "      <td>26</td>\n",
       "      <td>13.1612</td>\n",
       "      <td>False</td>\n",
       "    </tr>\n",
       "    <tr>\n",
       "      <th>astar_search (param=h_1)</th>\n",
       "      <td>158272</td>\n",
       "      <td>12</td>\n",
       "      <td>43.5781</td>\n",
       "      <td>True</td>\n",
       "    </tr>\n",
       "    <tr>\n",
       "      <th>astar_search (param=h_ignore_preconditions)</th>\n",
       "      <td>44769</td>\n",
       "      <td>12</td>\n",
       "      <td>14.4305</td>\n",
       "      <td>True</td>\n",
       "    </tr>\n",
       "    <tr>\n",
       "      <th>astar_search (param=h_pg_levelsum)</th>\n",
       "      <td>-</td>\n",
       "      <td>-</td>\n",
       "      <td>-</td>\n",
       "      <td>False</td>\n",
       "    </tr>\n",
       "  </tbody>\n",
       "</table>\n",
       "</div>"
      ],
      "text/plain": [
       "                                            Nodes Expanded Path Length  \\\n",
       "breadth_first_search                                128605          12   \n",
       "breadth_first_tree_search                                -           -   \n",
       "depth_first_graph_search                              3364         392   \n",
       "depth_limited_search                                     -           -   \n",
       "uniform_cost_search                                 158272          12   \n",
       "recursive_best_first_search (param=h_1)                  -           -   \n",
       "greedy_best_first_graph_search (param=h_1)           48822          26   \n",
       "astar_search (param=h_1)                            158272          12   \n",
       "astar_search (param=h_ignore_preconditions)          44769          12   \n",
       "astar_search (param=h_pg_levelsum)                       -           -   \n",
       "\n",
       "                                               Time (s)  optimal  \n",
       "breadth_first_search                            33.6191     True  \n",
       "breadth_first_tree_search                             -    False  \n",
       "depth_first_graph_search                         1.4277    False  \n",
       "depth_limited_search                                  -    False  \n",
       "uniform_cost_search                             41.0995     True  \n",
       "recursive_best_first_search (param=h_1)               -    False  \n",
       "greedy_best_first_graph_search (param=h_1)      13.1612    False  \n",
       "astar_search (param=h_1)                        43.5781     True  \n",
       "astar_search (param=h_ignore_preconditions)     14.4305     True  \n",
       "astar_search (param=h_pg_levelsum)                    -    False  "
      ]
     },
     "execution_count": 4,
     "metadata": {},
     "output_type": "execute_result"
    }
   ],
   "source": [
    "hh.create_result_dataframe(problem_index=3, search_index=all_search_indices)"
   ]
  },
  {
   "cell_type": "markdown",
   "metadata": {},
   "source": [
    "In this final problem, the `breadth first tree search`, `depth limited search`, `recursive best first search` and `A* search with level sum heuristic` did not finish.\n",
    "\n",
    "* Optimality: All achieved optimal solution except `depth first graph search` and `greedy best firs graph search`.\n",
    "* Time: `depth first graph search` has a significant less time in comparison to other problems.\n",
    "* Memory: `depth first graph search` was the most memory efficient of all method completed."
   ]
  },
  {
   "cell_type": "markdown",
   "metadata": {},
   "source": [
    "# Search Method Discussion\n",
    "\n",
    "The question which method is better really depends on the context, although the analysis exposes the weaknesses of certain methods, there are several contenders when choosing the most applicable method.\n",
    "\n",
    "In general, `depth first graph search` has been the fastest and also the most memory efficient method in the study. Yet, the solution is also far from optimal. In problem 3, it takes 392 steps in contrast to the optimal 12 steps.\n",
    "\n",
    "If optimality is essential, than the `A* search with precondition heuristic` is a good alternative. It found optimal solution in all three problems with the lowest resource and time cost in comparison to other optimal methods such as `breadth first search`."
   ]
  },
  {
   "cell_type": "markdown",
   "metadata": {},
   "source": [
    "# Conclusion"
   ]
  },
  {
   "cell_type": "code",
   "execution_count": null,
   "metadata": {
    "collapsed": true
   },
   "outputs": [],
   "source": []
  },
  {
   "cell_type": "code",
   "execution_count": null,
   "metadata": {
    "collapsed": true
   },
   "outputs": [],
   "source": []
  },
  {
   "cell_type": "code",
   "execution_count": null,
   "metadata": {
    "collapsed": true
   },
   "outputs": [],
   "source": []
  },
  {
   "cell_type": "code",
   "execution_count": null,
   "metadata": {
    "collapsed": true
   },
   "outputs": [],
   "source": []
  },
  {
   "cell_type": "code",
   "execution_count": null,
   "metadata": {
    "collapsed": true
   },
   "outputs": [],
   "source": []
  },
  {
   "cell_type": "code",
   "execution_count": null,
   "metadata": {
    "collapsed": true
   },
   "outputs": [],
   "source": []
  },
  {
   "cell_type": "code",
   "execution_count": null,
   "metadata": {
    "collapsed": true
   },
   "outputs": [],
   "source": []
  },
  {
   "cell_type": "code",
   "execution_count": null,
   "metadata": {
    "collapsed": true
   },
   "outputs": [],
   "source": []
  },
  {
   "cell_type": "code",
   "execution_count": null,
   "metadata": {
    "collapsed": true
   },
   "outputs": [],
   "source": []
  },
  {
   "cell_type": "code",
   "execution_count": null,
   "metadata": {
    "collapsed": true
   },
   "outputs": [],
   "source": []
  },
  {
   "cell_type": "code",
   "execution_count": null,
   "metadata": {
    "collapsed": true
   },
   "outputs": [],
   "source": []
  },
  {
   "cell_type": "code",
   "execution_count": null,
   "metadata": {
    "collapsed": true
   },
   "outputs": [],
   "source": []
  },
  {
   "cell_type": "code",
   "execution_count": null,
   "metadata": {
    "collapsed": true
   },
   "outputs": [],
   "source": []
  },
  {
   "cell_type": "code",
   "execution_count": null,
   "metadata": {
    "collapsed": true
   },
   "outputs": [],
   "source": []
  },
  {
   "cell_type": "code",
   "execution_count": null,
   "metadata": {
    "collapsed": true
   },
   "outputs": [],
   "source": []
  },
  {
   "cell_type": "code",
   "execution_count": null,
   "metadata": {
    "collapsed": true
   },
   "outputs": [],
   "source": []
  }
 ],
 "metadata": {
  "kernelspec": {
   "display_name": "aind",
   "language": "python",
   "name": "aind"
  },
  "language_info": {
   "codemirror_mode": {
    "name": "ipython",
    "version": 3
   },
   "file_extension": ".py",
   "mimetype": "text/x-python",
   "name": "python",
   "nbconvert_exporter": "python",
   "pygments_lexer": "ipython3",
   "version": "3.5.2"
  }
 },
 "nbformat": 4,
 "nbformat_minor": 2
}
